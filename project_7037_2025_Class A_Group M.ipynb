{
 "cells": [
  {
   "cell_type": "markdown",
   "id": "4d1c435e",
   "metadata": {},
   "source": [
    "# 7037 Class A Group M Final Project\n",
    "\n",
    "Xia Yi 3036346450\n",
    "\n",
    "Li Guiquan 3036347131\n",
    "\n",
    "Huang Haowen 3036345298\n",
    "\n",
    "Feng Jiayi 3036347234\n",
    "\n",
    "Wu Zhuoya 3036345834"
   ]
  },
  {
   "cell_type": "markdown",
   "id": "8af7ae1e",
   "metadata": {},
   "source": [
    "# 1. Form Hypotheses"
   ]
  },
  {
   "cell_type": "markdown",
   "id": "768b170b",
   "metadata": {},
   "source": [
    "Treatment group will have higher click-through rates compared to control group. \n",
    "\n",
    "H₀: Showing a friend's like in the ad has no impact on click-through rate.\n",
    "\n",
    "H₁: Showing a friend's like increases the click-through rate.\n"
   ]
  },
  {
   "cell_type": "code",
   "execution_count": 1,
   "id": "292c3eba",
   "metadata": {},
   "outputs": [],
   "source": [
    "import pandas as pd\n",
    "import numpy as np\n",
    "\n",
    "import warnings\n",
    "\n",
    "import scipy.stats as stats\n",
    "from scipy.stats import ttest_ind, chi2_contingency, mannwhitneyu\n",
    "import statsmodels.api as sm\n",
    "from statsmodels.stats.power import NormalIndPower\n",
    "from statsmodels.stats.proportion import proportion_effectsize\n",
    "import statsmodels.formula.api as smf\n",
    "from scipy.stats import levene\n",
    "\n",
    "import seaborn as sns\n",
    "import matplotlib.pyplot as plt\n",
    "\n",
    "from sklearn.linear_model import LinearRegression\n"
   ]
  },
  {
   "cell_type": "code",
   "execution_count": 2,
   "id": "5951a972",
   "metadata": {},
   "outputs": [
    {
     "name": "stdout",
     "output_type": "stream",
     "text": [
      "data dimensions: (1000000, 20)\n"
     ]
    },
    {
     "data": {
      "application/vnd.microsoft.datawrangler.viewer.v0+json": {
       "columns": [
        {
         "name": "index",
         "rawType": "int64",
         "type": "integer"
        },
        {
         "name": "user",
         "rawType": "int64",
         "type": "integer"
        },
        {
         "name": "adid",
         "rawType": "object",
         "type": "string"
        },
        {
         "name": "week",
         "rawType": "object",
         "type": "string"
        },
        {
         "name": "expid",
         "rawType": "int64",
         "type": "integer"
        },
        {
         "name": "if_click",
         "rawType": "int64",
         "type": "integer"
        },
        {
         "name": "real_like_cnt",
         "rawType": "int64",
         "type": "integer"
        },
        {
         "name": "category",
         "rawType": "object",
         "type": "string"
        },
        {
         "name": "brand_effect",
         "rawType": "int64",
         "type": "integer"
        },
        {
         "name": "experience",
         "rawType": "int64",
         "type": "integer"
        },
        {
         "name": "status",
         "rawType": "int64",
         "type": "integer"
        },
        {
         "name": "user_age",
         "rawType": "int64",
         "type": "integer"
        },
        {
         "name": "friend_age",
         "rawType": "int64",
         "type": "integer"
        },
        {
         "name": "user_gender",
         "rawType": "object",
         "type": "string"
        },
        {
         "name": "friend_gender",
         "rawType": "object",
         "type": "string"
        },
        {
         "name": "user_city",
         "rawType": "object",
         "type": "string"
        },
        {
         "name": "friend_city",
         "rawType": "object",
         "type": "string"
        },
        {
         "name": "user_degree",
         "rawType": "int64",
         "type": "integer"
        },
        {
         "name": "friend_degree",
         "rawType": "int64",
         "type": "integer"
        },
        {
         "name": "user_sns_like_cnt",
         "rawType": "int64",
         "type": "integer"
        },
        {
         "name": "user_sns_comment_cnt",
         "rawType": "int64",
         "type": "integer"
        }
       ],
       "conversionMethod": "pd.DataFrame",
       "ref": "f49a8d7c-6a9d-4f2d-828b-7701612fd2b2",
       "rows": [
        [
         "0",
         "297353",
         "0b0fa14b56d3741178196daaa92e6a1e",
         "w_2",
         "1",
         "0",
         "3",
         "Car",
         "1",
         "1",
         "1",
         "48",
         "37",
         "female",
         "male",
         "level_1",
         "level_1",
         "495",
         "436",
         "162",
         "138"
        ],
        [
         "1",
         "98719",
         "ea875acb76e0a806a7837174528f62d9",
         "w_3",
         "1",
         "0",
         "3",
         "Car",
         "1",
         "1",
         "1",
         "29",
         "34",
         "female",
         "female",
         "level_3",
         "level_2",
         "479",
         "3911",
         "212",
         "312"
        ],
        [
         "2",
         "205144",
         "1f1fe825014d9e9a0881233d9950bd43",
         "w_2",
         "1",
         "0",
         "1",
         "Jewelry",
         "0",
         "1",
         "1",
         "24",
         "24",
         "female",
         "male",
         "level_2",
         "level_1",
         "682",
         "470",
         "95",
         "336"
        ],
        [
         "3",
         "559194",
         "1f1fe825014d9e9a0881233d9950bd43",
         "w_2",
         "1",
         "0",
         "5",
         "Jewelry",
         "0",
         "1",
         "1",
         "26",
         "41",
         "male",
         "male",
         "level_1",
         "level_1",
         "340",
         "602",
         "35",
         "138"
        ],
        [
         "4",
         "11888",
         "0d82161270febc99f7defb653e339113",
         "w_3",
         "0",
         "0",
         "1",
         "Cosmetrics",
         "0",
         "1",
         "1",
         "40",
         "34",
         "female",
         "female",
         "level_1",
         "level_2",
         "95",
         "836",
         "50",
         "38"
        ]
       ],
       "shape": {
        "columns": 20,
        "rows": 5
       }
      },
      "text/html": [
       "<div>\n",
       "<style scoped>\n",
       "    .dataframe tbody tr th:only-of-type {\n",
       "        vertical-align: middle;\n",
       "    }\n",
       "\n",
       "    .dataframe tbody tr th {\n",
       "        vertical-align: top;\n",
       "    }\n",
       "\n",
       "    .dataframe thead th {\n",
       "        text-align: right;\n",
       "    }\n",
       "</style>\n",
       "<table border=\"1\" class=\"dataframe\">\n",
       "  <thead>\n",
       "    <tr style=\"text-align: right;\">\n",
       "      <th></th>\n",
       "      <th>user</th>\n",
       "      <th>adid</th>\n",
       "      <th>week</th>\n",
       "      <th>expid</th>\n",
       "      <th>if_click</th>\n",
       "      <th>real_like_cnt</th>\n",
       "      <th>category</th>\n",
       "      <th>brand_effect</th>\n",
       "      <th>experience</th>\n",
       "      <th>status</th>\n",
       "      <th>user_age</th>\n",
       "      <th>friend_age</th>\n",
       "      <th>user_gender</th>\n",
       "      <th>friend_gender</th>\n",
       "      <th>user_city</th>\n",
       "      <th>friend_city</th>\n",
       "      <th>user_degree</th>\n",
       "      <th>friend_degree</th>\n",
       "      <th>user_sns_like_cnt</th>\n",
       "      <th>user_sns_comment_cnt</th>\n",
       "    </tr>\n",
       "  </thead>\n",
       "  <tbody>\n",
       "    <tr>\n",
       "      <th>0</th>\n",
       "      <td>297353</td>\n",
       "      <td>0b0fa14b56d3741178196daaa92e6a1e</td>\n",
       "      <td>w_2</td>\n",
       "      <td>1</td>\n",
       "      <td>0</td>\n",
       "      <td>3</td>\n",
       "      <td>Car</td>\n",
       "      <td>1</td>\n",
       "      <td>1</td>\n",
       "      <td>1</td>\n",
       "      <td>48</td>\n",
       "      <td>37</td>\n",
       "      <td>female</td>\n",
       "      <td>male</td>\n",
       "      <td>level_1</td>\n",
       "      <td>level_1</td>\n",
       "      <td>495</td>\n",
       "      <td>436</td>\n",
       "      <td>162</td>\n",
       "      <td>138</td>\n",
       "    </tr>\n",
       "    <tr>\n",
       "      <th>1</th>\n",
       "      <td>98719</td>\n",
       "      <td>ea875acb76e0a806a7837174528f62d9</td>\n",
       "      <td>w_3</td>\n",
       "      <td>1</td>\n",
       "      <td>0</td>\n",
       "      <td>3</td>\n",
       "      <td>Car</td>\n",
       "      <td>1</td>\n",
       "      <td>1</td>\n",
       "      <td>1</td>\n",
       "      <td>29</td>\n",
       "      <td>34</td>\n",
       "      <td>female</td>\n",
       "      <td>female</td>\n",
       "      <td>level_3</td>\n",
       "      <td>level_2</td>\n",
       "      <td>479</td>\n",
       "      <td>3911</td>\n",
       "      <td>212</td>\n",
       "      <td>312</td>\n",
       "    </tr>\n",
       "    <tr>\n",
       "      <th>2</th>\n",
       "      <td>205144</td>\n",
       "      <td>1f1fe825014d9e9a0881233d9950bd43</td>\n",
       "      <td>w_2</td>\n",
       "      <td>1</td>\n",
       "      <td>0</td>\n",
       "      <td>1</td>\n",
       "      <td>Jewelry</td>\n",
       "      <td>0</td>\n",
       "      <td>1</td>\n",
       "      <td>1</td>\n",
       "      <td>24</td>\n",
       "      <td>24</td>\n",
       "      <td>female</td>\n",
       "      <td>male</td>\n",
       "      <td>level_2</td>\n",
       "      <td>level_1</td>\n",
       "      <td>682</td>\n",
       "      <td>470</td>\n",
       "      <td>95</td>\n",
       "      <td>336</td>\n",
       "    </tr>\n",
       "    <tr>\n",
       "      <th>3</th>\n",
       "      <td>559194</td>\n",
       "      <td>1f1fe825014d9e9a0881233d9950bd43</td>\n",
       "      <td>w_2</td>\n",
       "      <td>1</td>\n",
       "      <td>0</td>\n",
       "      <td>5</td>\n",
       "      <td>Jewelry</td>\n",
       "      <td>0</td>\n",
       "      <td>1</td>\n",
       "      <td>1</td>\n",
       "      <td>26</td>\n",
       "      <td>41</td>\n",
       "      <td>male</td>\n",
       "      <td>male</td>\n",
       "      <td>level_1</td>\n",
       "      <td>level_1</td>\n",
       "      <td>340</td>\n",
       "      <td>602</td>\n",
       "      <td>35</td>\n",
       "      <td>138</td>\n",
       "    </tr>\n",
       "    <tr>\n",
       "      <th>4</th>\n",
       "      <td>11888</td>\n",
       "      <td>0d82161270febc99f7defb653e339113</td>\n",
       "      <td>w_3</td>\n",
       "      <td>0</td>\n",
       "      <td>0</td>\n",
       "      <td>1</td>\n",
       "      <td>Cosmetrics</td>\n",
       "      <td>0</td>\n",
       "      <td>1</td>\n",
       "      <td>1</td>\n",
       "      <td>40</td>\n",
       "      <td>34</td>\n",
       "      <td>female</td>\n",
       "      <td>female</td>\n",
       "      <td>level_1</td>\n",
       "      <td>level_2</td>\n",
       "      <td>95</td>\n",
       "      <td>836</td>\n",
       "      <td>50</td>\n",
       "      <td>38</td>\n",
       "    </tr>\n",
       "  </tbody>\n",
       "</table>\n",
       "</div>"
      ],
      "text/plain": [
       "     user                              adid week  expid  if_click  \\\n",
       "0  297353  0b0fa14b56d3741178196daaa92e6a1e  w_2      1         0   \n",
       "1   98719  ea875acb76e0a806a7837174528f62d9  w_3      1         0   \n",
       "2  205144  1f1fe825014d9e9a0881233d9950bd43  w_2      1         0   \n",
       "3  559194  1f1fe825014d9e9a0881233d9950bd43  w_2      1         0   \n",
       "4   11888  0d82161270febc99f7defb653e339113  w_3      0         0   \n",
       "\n",
       "   real_like_cnt    category  brand_effect  experience  status  user_age  \\\n",
       "0              3         Car             1           1       1        48   \n",
       "1              3         Car             1           1       1        29   \n",
       "2              1     Jewelry             0           1       1        24   \n",
       "3              5     Jewelry             0           1       1        26   \n",
       "4              1  Cosmetrics             0           1       1        40   \n",
       "\n",
       "   friend_age user_gender friend_gender user_city friend_city  user_degree  \\\n",
       "0          37      female          male   level_1     level_1          495   \n",
       "1          34      female        female   level_3     level_2          479   \n",
       "2          24      female          male   level_2     level_1          682   \n",
       "3          41        male          male   level_1     level_1          340   \n",
       "4          34      female        female   level_1     level_2           95   \n",
       "\n",
       "   friend_degree  user_sns_like_cnt  user_sns_comment_cnt  \n",
       "0            436                162                   138  \n",
       "1           3911                212                   312  \n",
       "2            470                 95                   336  \n",
       "3            602                 35                   138  \n",
       "4            836                 50                    38  "
      ]
     },
     "metadata": {},
     "output_type": "display_data"
    },
    {
     "name": "stdout",
     "output_type": "stream",
     "text": [
      "\n",
      "Data Types:\n"
     ]
    },
    {
     "data": {
      "text/plain": [
       "user                     int64\n",
       "adid                    object\n",
       "week                    object\n",
       "expid                    int64\n",
       "if_click                 int64\n",
       "real_like_cnt            int64\n",
       "category                object\n",
       "brand_effect             int64\n",
       "experience               int64\n",
       "status                   int64\n",
       "user_age                 int64\n",
       "friend_age               int64\n",
       "user_gender             object\n",
       "friend_gender           object\n",
       "user_city               object\n",
       "friend_city             object\n",
       "user_degree              int64\n",
       "friend_degree            int64\n",
       "user_sns_like_cnt        int64\n",
       "user_sns_comment_cnt     int64\n",
       "dtype: object"
      ]
     },
     "metadata": {},
     "output_type": "display_data"
    }
   ],
   "source": [
    "df = pd.read_csv(\"project_data.csv\")\n",
    "\n",
    "print(\"data dimensions:\", df.shape)\n",
    "display(df.head())\n",
    "print(\"\\nData Types:\")\n",
    "display(df.dtypes)"
   ]
  },
  {
   "cell_type": "markdown",
   "id": "209e473d",
   "metadata": {},
   "source": [
    "# 2. Sanity Check"
   ]
  },
  {
   "cell_type": "markdown",
   "id": "b1ea1e51",
   "metadata": {},
   "source": [
    "The Sanity Check is to ensure the scientific nature and credibility of the subsequent analysis results.\n",
    "\n",
    "In the experiment, we conduct SRM check, Covariate balance check and A/A test in sanity check. \n",
    "\n",
    "In SRM check, we use Chi-square homogeneity check and t-test check to check if the control/treatment group split aligns with expectations. \n",
    "\n",
    "In Covariate balance check, we use t-test and Mann-Whitney U to ensure comparability between groups. \n",
    "\n",
    "In A/A test, we run the experiment without any intervention to verify whether the platform can generate results with no differences between groups. "
   ]
  },
  {
   "cell_type": "markdown",
   "id": "f9c535cf",
   "metadata": {},
   "source": [
    "## 2.1 Sample Ratio Mismatch check "
   ]
  },
  {
   "cell_type": "markdown",
   "id": "0e049d30",
   "metadata": {},
   "source": [
    "Sample Ratio Match (SRM): Check if the control/treatment group split aligns with expectations."
   ]
  },
  {
   "cell_type": "markdown",
   "id": "7289af0f",
   "metadata": {},
   "source": [
    "### 2.1.1 Chi-square Homogeneity Test"
   ]
  },
  {
   "cell_type": "code",
   "execution_count": 3,
   "id": "20075fbe",
   "metadata": {},
   "outputs": [
    {
     "name": "stdout",
     "output_type": "stream",
     "text": [
      "Control Group: 500000 (50.00%)\n",
      "Treatment Group: 500000 (50.00%)\n"
     ]
    }
   ],
   "source": [
    "# Calculate group sizes\n",
    "control_count = df[df['expid'] == 0].shape[0]\n",
    "treatment_count = df[df['expid'] == 1].shape[0]\n",
    "total = control_count + treatment_count\n",
    "expected_ratio = 0.5  \n",
    "\n",
    "print(f\"Control Group: {control_count} ({control_count/total:.2%})\")\n",
    "print(f\"Treatment Group: {treatment_count} ({treatment_count/total:.2%})\")\n"
   ]
  },
  {
   "cell_type": "code",
   "execution_count": 4,
   "id": "22bd6610",
   "metadata": {},
   "outputs": [
    {
     "name": "stdout",
     "output_type": "stream",
     "text": [
      "Chi-square Test: chi2=0.0000, p-value=1.0000\n",
      "Passed: No significant SRM.\n"
     ]
    }
   ],
   "source": [
    "observed = [control_count, treatment_count]\n",
    "expected = [total * expected_ratio, total * expected_ratio]\n",
    "chi2, p = stats.chisquare(f_obs=observed, f_exp=expected)\n",
    "\n",
    "print(f\"Chi-square Test: chi2={chi2:.4f}, p-value={p:.4f}\")\n",
    "if p < 0.05:\n",
    "    print(\"Warning: Significant SRM detected!\")\n",
    "else:\n",
    "    print(\"Passed: No significant SRM.\")"
   ]
  },
  {
   "cell_type": "markdown",
   "id": "e6b016e2",
   "metadata": {},
   "source": [
    "### 2.1.2 T-tests"
   ]
  },
  {
   "cell_type": "code",
   "execution_count": 5,
   "id": "2dcdd39c",
   "metadata": {},
   "outputs": [],
   "source": [
    "observed_proportion_control = control_count / total\n",
    "observed_proportion_treatment = treatment_count / total\n",
    "\n",
    "p = expected_ratio  \n",
    "variance = p * (1 - p) / total\n",
    "\n",
    "# standard error\n",
    "se = np.sqrt(variance)\n",
    "\n",
    "\n",
    "# t = (observed - expected) / se\n",
    "delta = observed_proportion_control - expected_ratio\n",
    "t_stat = delta / se\n",
    "\n",
    "\n",
    "degrees_of_freedom = total - 1\n",
    "\n",
    "p_value = 2 * (1 - stats.t.cdf(abs(t_stat), df=degrees_of_freedom))"
   ]
  },
  {
   "cell_type": "code",
   "execution_count": 6,
   "id": "4596c731",
   "metadata": {},
   "outputs": [
    {
     "name": "stdout",
     "output_type": "stream",
     "text": [
      "t-test:\n",
      "t = 0.0000\n",
      "dof = 999999\n",
      "p-value = 1.0000\n",
      "Passed: No significant SRM.\n"
     ]
    }
   ],
   "source": [
    "print(f\"t-test:\")\n",
    "print(f\"t = {t_stat:.4f}\")\n",
    "print(f\"dof = {degrees_of_freedom}\")\n",
    "print(f\"p-value = {p_value:.4f}\")\n",
    "\n",
    "alpha = 0.05\n",
    "if p_value < alpha:\n",
    "    print(\"Warning: Significant SRM detected!\")\n",
    "else:\n",
    "    print(\"Passed: No significant SRM.\")"
   ]
  },
  {
   "cell_type": "markdown",
   "id": "6aa31ca4",
   "metadata": {},
   "source": [
    "## 2.2 Covariate Balance Check"
   ]
  },
  {
   "cell_type": "markdown",
   "id": "deed568a",
   "metadata": {},
   "source": [
    "Covariate Balance: Verify if user characteristics are balanced across groups."
   ]
  },
  {
   "cell_type": "code",
   "execution_count": 7,
   "id": "e308c9ff",
   "metadata": {},
   "outputs": [],
   "source": [
    "categorical_vars = ['user_gender', 'user_city', 'category', 'brand_effect']\n",
    "continuous_vars = ['user_age', 'user_degree', \n",
    "                   'user_sns_like_cnt', 'user_sns_comment_cnt']\n",
    "\n",
    "# Chi-square test for categorical variables\n",
    "def check_categorical_balance(var):\n",
    "    contingency_table = pd.crosstab(df[var], df['expid'])\n",
    "    chi2, p, _, _ = stats.chi2_contingency(contingency_table)\n",
    "    return p"
   ]
  },
  {
   "cell_type": "code",
   "execution_count": 8,
   "id": "3ca0ccc6",
   "metadata": {},
   "outputs": [],
   "source": [
    "# t-test/Mann-Whitney U for continuous variables\n",
    "warnings.filterwarnings(\"ignore\", \n",
    "                        message=\"scipy.stats.shapiro: \" \\\n",
    "                        \"For N > 5000, \" \\\n",
    "                        \"computed p-value may not be accurate.\")\n",
    "\n",
    "def check_continuous_balance(var):\n",
    "    control = df[df['expid'] == 0][var].dropna()\n",
    "    treatment = df[df['expid'] == 1][var].dropna()\n",
    "    \n",
    "    # Normality check (Shapiro-Wilk)\n",
    "    _, p_control = stats.shapiro(control)\n",
    "    _, p_treatment = stats.shapiro(treatment)\n",
    "    \n",
    "    if (p_control < 0.05) or (p_treatment < 0.05):\n",
    "        # Non-normal -> Mann-Whitney U\n",
    "        stat, p = stats.mannwhitneyu(control, treatment)\n",
    "        test_type = \"Mann-Whitney U\"\n",
    "    else:\n",
    "        # Normal -> T-test\n",
    "        stat, p = stats.ttest_ind(control, treatment)\n",
    "        test_type = \"T-test\"\n",
    "    return test_type, p"
   ]
  },
  {
   "cell_type": "code",
   "execution_count": 9,
   "id": "2c915045",
   "metadata": {},
   "outputs": [
    {
     "name": "stdout",
     "output_type": "stream",
     "text": [
      "Categorical Variables Balance:\n",
      "user_gender: p=0.1597 (Balanced)\n",
      "user_city: p=0.3797 (Balanced)\n",
      "category: p=1.0000 (Balanced)\n",
      "brand_effect: p=0.9886 (Balanced)\n"
     ]
    }
   ],
   "source": [
    "print(\"Categorical Variables Balance:\")\n",
    "for var in categorical_vars:\n",
    "    p = check_categorical_balance(var)\n",
    "    print(f\"{var}: p={p:.4f} {'(Imbalanced)' if p < 0.05 else '(Balanced)'}\")"
   ]
  },
  {
   "cell_type": "code",
   "execution_count": 10,
   "id": "d17a4a00",
   "metadata": {},
   "outputs": [
    {
     "name": "stdout",
     "output_type": "stream",
     "text": [
      "Continuous Variables Balance:\n",
      "user_age (Mann-Whitney U): p=0.7586 (Balanced)\n",
      "user_degree (Mann-Whitney U): p=0.2262 (Balanced)\n",
      "user_sns_like_cnt (Mann-Whitney U): p=0.1126 (Balanced)\n",
      "user_sns_comment_cnt (Mann-Whitney U): p=0.1807 (Balanced)\n"
     ]
    }
   ],
   "source": [
    "print(\"Continuous Variables Balance:\")\n",
    "for var in continuous_vars:\n",
    "    test_type, p = check_continuous_balance(var)\n",
    "    print(f\"{var} ({test_type}): p={p:.4f} {'(Imbalanced)' if p < 0.05 \n",
    "                                            else '(Balanced)'}\")"
   ]
  },
  {
   "cell_type": "markdown",
   "id": "0fed1e67",
   "metadata": {},
   "source": [
    "## 2.3 A/A test"
   ]
  },
  {
   "cell_type": "code",
   "execution_count": 13,
   "id": "b487315a",
   "metadata": {},
   "outputs": [
    {
     "name": "stdout",
     "output_type": "stream",
     "text": [
      "AA_group\n",
      "A2    250445\n",
      "A1    249555\n",
      "Name: count, dtype: int64\n"
     ]
    }
   ],
   "source": [
    "from statsmodels.stats.proportion import proportions_ztest\n",
    "control_df = df[df['expid'] == 0].copy()\n",
    "\n",
    "np.random.seed(42) \n",
    "control_df['AA_group'] = np.random.choice(['A1', 'A2'], \n",
    "                                          size=len(control_df), p=[0.5, 0.5])\n",
    "\n",
    "aa_counts = control_df['AA_group'].value_counts()\n",
    "print(aa_counts)"
   ]
  },
  {
   "cell_type": "code",
   "execution_count": 24,
   "id": "a0ccf040",
   "metadata": {},
   "outputs": [
    {
     "name": "stdout",
     "output_type": "stream",
     "text": [
      "A/A ctr: A1=0.067, A2=0.066, p-value=0.1642\n",
      "Pass: No significant difference in the click-through rates of the A/A subgroups.\n"
     ]
    }
   ],
   "source": [
    "# ctr of aa1 and aa2\n",
    "aa1_clicks = control_df[control_df['AA_group'] == 'A1']['if_click'].mean()\n",
    "aa2_clicks = control_df[control_df['AA_group'] == 'A2']['if_click'].mean()\n",
    "\n",
    "# z-test\n",
    "clicks = [control_df[control_df['AA_group'] == 'A1']['if_click'].sum(),\n",
    "          control_df[control_df['AA_group'] == 'A2']['if_click'].sum()]\n",
    "nobs = [aa_counts['A1'], aa_counts['A2']]\n",
    "z_stat, p_click = proportions_ztest(clicks, nobs)\n",
    "print(f\"A/A ctr: A1={aa1_clicks:.3f}, A2={aa2_clicks:.3f}, p-value={p_click:.4f}\")\n",
    "if p_click < 0.05:\n",
    "    print(\"Warning: Exist significant difference \"\n",
    "    \"in the click-through rates of the A/A subgroups.\")\n",
    "else:\n",
    "    print(\"Pass: No significant difference \"\n",
    "    \"in the click-through rates of the A/A subgroups.\")"
   ]
  },
  {
   "cell_type": "markdown",
   "id": "a3bb181c",
   "metadata": {},
   "source": [
    "## 2.4 Conclusion"
   ]
  },
  {
   "cell_type": "markdown",
   "id": "01826ad7",
   "metadata": {},
   "source": [
    "The experiment has passed the SRM check, the covariate balance check and A/A test, indicating that the randomization mechanism of the experiment is effective and the data quality is reliable. \n",
    "\n",
    "Next, we can analyze the differences in click-through rates between the treatment group and the control group to evaluate whether displaying \"1 like\" in the advertisement can significantly enhance user interaction."
   ]
  },
  {
   "cell_type": "markdown",
   "id": "6fb971b9",
   "metadata": {},
   "source": [
    "# 3.Power Analysis"
   ]
  },
  {
   "cell_type": "markdown",
   "id": "273283b1",
   "metadata": {},
   "source": [
    "## 3.1 Extract Effect Sizes (ΔCTR)"
   ]
  },
  {
   "cell_type": "markdown",
   "id": "bc80cb0d",
   "metadata": {},
   "source": [
    "We need the baseline click-through rate (CTR) in Control and the CTR in Treatment for each product category, then compute ΔCTR = CTR_Treatment − CTR_Control. We will use the smallest ΔCTR (most conservative) for our power calculations."
   ]
  },
  {
   "cell_type": "code",
   "execution_count": 25,
   "id": "f901a5c4",
   "metadata": {},
   "outputs": [
    {
     "name": "stdout",
     "output_type": "stream",
     "text": [
      "     category  CTR_Control  CTR_Treatment  Delta_CTR  N_Control\n",
      "0    Beverage      0.06421        0.07216    0.00795   100000.0\n",
      "1         Car      0.06520        0.07245    0.00725   100000.0\n",
      "2     Clothes      0.06010        0.06698    0.00688   100000.0\n",
      "3  Cosmetrics      0.06772        0.07451    0.00679   100000.0\n",
      "4     Jewelry      0.07579        0.08643    0.01064   100000.0\n"
     ]
    }
   ],
   "source": [
    "ctr = (\n",
    "    df\n",
    "    .groupby(['category','expid'])['if_click']\n",
    "    .agg(CTR='mean', N='count')\n",
    "    .reset_index()\n",
    ")\n",
    "\n",
    "# 1.3 Pivot so we have Control vs Treatment side-by-side\n",
    "pivot = ctr.pivot(index='category', columns='expid', values=['CTR','N'])\n",
    "pivot.columns = ['CTR_Control','CTR_Treatment','N_Control','N_Treatment']\n",
    "pivot = pivot.reset_index()\n",
    "\n",
    "# 1.4 Compute ΔCTR\n",
    "pivot['Delta_CTR'] = pivot['CTR_Treatment'] - pivot['CTR_Control']\n",
    "\n",
    "print(pivot[['category','CTR_Control','CTR_Treatment','Delta_CTR','N_Control']])"
   ]
  },
  {
   "cell_type": "markdown",
   "id": "7b44be60",
   "metadata": {},
   "source": [
    "## 3.2 Post-Hoc Power Calculation"
   ]
  },
  {
   "cell_type": "code",
   "execution_count": 27,
   "id": "50b63baf",
   "metadata": {},
   "outputs": [
    {
     "name": "stdout",
     "output_type": "stream",
     "text": [
      "Post-hoc power = 1.000\n"
     ]
    }
   ],
   "source": [
    "from statsmodels.stats.power import NormalIndPower\n",
    "from statsmodels.stats.proportion import proportion_effectsize\n",
    "\n",
    "alpha = 0.05\n",
    "p1 = 0.0677\n",
    "delta = 0.0068\n",
    "p2 = p1 + delta\n",
    "n_per_group = 100000\n",
    "\n",
    "h = proportion_effectsize(p1, p2)\n",
    "\n",
    "analysis = NormalIndPower()\n",
    "power_now = analysis.power(effect_size=h,\n",
    "                           nobs1=n_per_group,\n",
    "                           alpha=alpha,\n",
    "                           ratio=1.0)\n",
    "print(f\"Post-hoc power = {power_now:.3f}\")\n"
   ]
  },
  {
   "cell_type": "markdown",
   "id": "97793c2e",
   "metadata": {},
   "source": [
    "This means with 100 k observations per group, you have virtually 100% chance of detecting a 0.0068 CTR uplift at α=0.05."
   ]
  },
  {
   "cell_type": "markdown",
   "id": "e24489cd",
   "metadata": {},
   "source": [
    "## 3.3 A-priori Sample Size"
   ]
  },
  {
   "cell_type": "code",
   "execution_count": 28,
   "id": "015d65b7",
   "metadata": {},
   "outputs": [
    {
     "name": "stdout",
     "output_type": "stream",
     "text": [
      "Required N per group for 80% power: 22409\n"
     ]
    }
   ],
   "source": [
    "target_power = 0.8\n",
    "required_n = analysis.solve_power(effect_size=h,\n",
    "                                  power=target_power,\n",
    "                                  alpha=alpha,\n",
    "                                  ratio=1.0)\n",
    "print(f\"Required N per group for 80% power: {required_n:.0f}\")\n"
   ]
  },
  {
   "cell_type": "markdown",
   "id": "2209eb8f",
   "metadata": {},
   "source": [
    "## 3.4 Power Curve"
   ]
  },
  {
   "cell_type": "code",
   "execution_count": 29,
   "id": "6af3782d",
   "metadata": {},
   "outputs": [
    {
     "data": {
      "image/png": "[encoded data removed]",
      "text/plain": [
       "<Figure size 640x480 with 1 Axes>"
      ]
     },
     "metadata": {},
     "output_type": "display_data"
    },
    {
     "name": "stdout",
     "output_type": "stream",
     "text": [
      "[251073.54532742177, 85464.45805562967, 42825.16151824529, 25756.376967262233, 17234.763357283256, 12369.465782141377, 9328.484500104596, 7299.439577785061, 5877.004926399219, 4840.467144607184]\n"
     ]
    }
   ],
   "source": [
    "deltas = np.linspace(0.002, 0.015, 10)\n",
    "required_ns = [\n",
    "    analysis.solve_power(effect_size=proportion_effectsize(p1, p1 + d),\n",
    "                         power=target_power,\n",
    "                         alpha=alpha)\n",
    "    for d in deltas\n",
    "]\n",
    "\n",
    "plt.plot(deltas, required_ns, marker='o')\n",
    "plt.xlabel('Minimum Detectable Effect (ΔCTR)')\n",
    "plt.ylabel('Required N per Group (80% power)')\n",
    "plt.title('Power Curve (α=0.05)')\n",
    "plt.grid(True)\n",
    "plt.show()\n",
    "print(required_ns)"
   ]
  },
  {
   "cell_type": "markdown",
   "id": "33b5efb4",
   "metadata": {},
   "source": [
    "### 3.5 Conclusion:\n"
   ]
  },
  {
   "cell_type": "markdown",
   "id": "356f2cb1",
   "metadata": {},
   "source": [
    "To ensure our experiment can reliably detect even the smallest meaningful lift in click-through rate (CTR), we conducted both post-hoc and a-priori power calculations based on the minimum observed effect size.\n",
    "1. **Post-hoc Power**:  \n",
    "   - **Inputs**: ΔCTR = 0.0068, N = 100 000 per arm, α = 0.05  \n",
    "   - **Result**: Achieved power ≈ 1.000 (100%)  \n",
    "   - **Interpretation**: Even the smallest observed lift would almost certainly be detected. There is virtually no risk of a false negative due to insufficient sample size.\n",
    "\n",
    "2. **A-priori Sample Size**:  \n",
    "   - To achieve 80% power for ΔCTR = 0.0068, the required sample size is ≈ 25 756 per group.  \n",
    "   - For larger lifts (e.g. ΔCTR ≥ 0.0107), fewer than 10 000 per group are needed; for very small lifts (ΔCTR ≈ 0.002), over 250 000 per group would be required.\n",
    "\n",
    "3. **Implications**:  \n",
    "   - Our current sample size (100 k per arm) far exceeds what is needed, ensuring robust detection across all product categories.  \n",
    "   - If resources become constrained, sample sizes could be reduced to ~30 k per arm while still maintaining ≥ 80% power for a 0.68 pp lift. To design future tests for smaller lifts (e.g. ΔCTR = 0.003–0.005), plan for ~ 43 k–85 k per arm, as indicated by the power curve.  \n",
    "\n",
    "The experiment is highly powered, ensuring that all practically important CTR improvements can be detected with high confidence.\n"
   ]
  },
  {
   "cell_type": "markdown",
   "id": "6145df71",
   "metadata": {},
   "source": [
    "# 4. Compare test"
   ]
  },
  {
   "cell_type": "markdown",
   "id": "1d0549cc",
   "metadata": {},
   "source": [
    "## 4.1 Compare the test and control groups\n",
    "We need to calculate the CTR mean and standard deviation for control and treatment groups. And we use t-test to check if the difference is significant and use levins test to check if the variance is equal."
   ]
  },
  {
   "cell_type": "code",
   "execution_count": 30,
   "id": "7fc637e8",
   "metadata": {},
   "outputs": [
    {
     "name": "stdout",
     "output_type": "stream",
     "text": [
      "   Group (0=Control, 1=Treatment)  CTR Mean  CTR Std Dev       N\n",
      "0                               0  0.066604     0.249335  500000\n",
      "1                               1  0.074506     0.262593  500000\n"
     ]
    }
   ],
   "source": [
    "# 1 calculate the click-through rate (CTR)\n",
    "group_summary = df.groupby('expid')['if_click'].agg(\n",
    "    ['mean', 'std', 'count']).reset_index()\n",
    "group_summary.columns = ['Group (0=Control, 1=Treatment)',\n",
    "                          'CTR Mean', 'CTR Std Dev', 'N']\n",
    "print(group_summary)\n"
   ]
  },
  {
   "cell_type": "code",
   "execution_count": 31,
   "id": "7ac2d85d",
   "metadata": {},
   "outputs": [
    {
     "name": "stdout",
     "output_type": "stream",
     "text": [
      "Control variance: 0.0622\n",
      "Treatment variance: 0.0690\n"
     ]
    }
   ],
   "source": [
    "# 2 calculate the variance of the click-through rate (CTR) for each group\n",
    "control = df[df['expid'] == 0]['if_click']\n",
    "treatment = df[df['expid'] == 1]['if_click']\n",
    "\n",
    "var_control = np.var(control, ddof=1)\n",
    "var_treatment = np.var(treatment, ddof=1)\n",
    "\n",
    "print(f\"Control variance: {var_control:.4f}\")\n",
    "print(f\"Treatment variance: {var_treatment:.4f}\")\n"
   ]
  },
  {
   "cell_type": "code",
   "execution_count": 32,
   "id": "e58fa512",
   "metadata": {},
   "outputs": [
    {
     "name": "stdout",
     "output_type": "stream",
     "text": [
      "T-test result: t = 15.4306, p = 0.0000\n",
      "Levene's test result: F = 238.1031, p = 0.0000\n"
     ]
    }
   ],
   "source": [
    "# 3 test for the CTR mean in CTR between the two groups\n",
    "\n",
    "t_stat, p_val = stats.ttest_ind(treatment, control, equal_var=False)\n",
    "print(f\"T-test result: t = {t_stat:.4f}, p = {p_val:.4f}\")\n",
    "\n",
    "# 4 test for the CTR variance between the two groups\n",
    "f, p_val_var = stats.levene(control, treatment)\n",
    "print(f\"Levene's test result: F = {f:.4f}, p = {p_val_var:.4f}\")\n"
   ]
  },
  {
   "cell_type": "markdown",
   "id": "b681a07d",
   "metadata": {},
   "source": [
    "### 4.1.1 Click-Through Rate Comparison\n",
    "According to the code results:\n",
    "- Control Group (0): CTR = 6.66% (SD = 0.249)\n",
    "\n",
    "- Treatment Group (1): CTR = 7.45% (SD = 0.263)\n",
    "\n",
    "- T-test: t=15.43, p<0.001\n",
    "\n",
    "- Levene’s Test: F=238.10, p<0.001\n",
    "\n",
    "We can summarize the results as follows:\n",
    "\n",
    "1. Statistically Significant Improvement: The treatment group (showing 1 organic like) achieves a 0.79% absolute increase in CTR (11.8% relative increase) compared to the control group. The extremely low p-value (p<0.001) confirms this difference is not due to chance. For context, even small CTR improvements in large-scale platforms like WeChat Moments Ads can translate to millions of incremental clicks.\n",
    "\n",
    "2. Unequal Variance: The Levene’s test (p<0.001) rejects equal variance between groups. The treatment group exhibits higher variance in CTR (σ2=0.069) than the control (σ2=0.062), suggesting heterogeneity in user responses to social proof. Some users in the treatment group may be more influenced by the displayed like, while others remain indifferent."
   ]
  },
  {
   "cell_type": "markdown",
   "id": "9ceeab36",
   "metadata": {},
   "source": [
    "### 4.1.2 Bootstrap\n",
    "To make test more reliable, we can use bootstrap method to calculate the confidence interval for CTR. The bootstrap method is a resampling technique that allows us to estimate the distribution of a statistic (in this case, CTR) by repeatedly sampling from the data with replacement. This can help us obtain more robust estimates of the mean and standard deviation, especially when the sample size is small or when the data is not normally distributed."
   ]
  },
  {
   "cell_type": "code",
   "execution_count": 33,
   "id": "3d142762",
   "metadata": {},
   "outputs": [
    {
     "data": {
      "image/png": "[encoded data removed]",
      "text/plain": [
       "<Figure size 640x480 with 1 Axes>"
      ]
     },
     "metadata": {},
     "output_type": "display_data"
    },
    {
     "name": "stdout",
     "output_type": "stream",
     "text": [
      "95% CI from bootstrap: (0.0069, 0.0089)\n"
     ]
    }
   ],
   "source": [
    "# 5 bootstrap the CTR mean difference between the two groups\n",
    "def bootstrap_diff_means(a, b, n_bootstrap=10000):\n",
    "    boot_diffs = []\n",
    "    for _ in range(n_bootstrap):\n",
    "        sample_a = np.random.choice(a, size=len(a), replace=True)\n",
    "        sample_b = np.random.choice(b, size=len(b), replace=True)\n",
    "        boot_diffs.append(sample_b.mean() - sample_a.mean())\n",
    "    return boot_diffs\n",
    "\n",
    "boot_diffs = bootstrap_diff_means(control, treatment)\n",
    "\n",
    "# confidence interval\n",
    "ci_low = np.percentile(boot_diffs, 2.5)\n",
    "ci_high = np.percentile(boot_diffs, 97.5)\n",
    "\n",
    "sns.histplot(boot_diffs, kde=True)\n",
    "plt.axvline(ci_low, color='red', linestyle='--', label='2.5% CI')\n",
    "plt.axvline(ci_high, color='red', linestyle='--', label='97.5% CI')\n",
    "plt.axvline(np.mean(boot_diffs), color='black', label='Mean Difference')\n",
    "plt.title('Bootstrap Distribution of Mean Differences (Treatment - Control)')\n",
    "plt.legend()\n",
    "plt.show()\n",
    "\n",
    "print(f\"95% CI from bootstrap: ({ci_low:.4f}, {ci_high:.4f})\")\n"
   ]
  },
  {
   "cell_type": "markdown",
   "id": "74f01914",
   "metadata": {},
   "source": [
    "According to the code results, we can find: \n",
    "The 95% CI does not include zero, reinforcing the t-test conclusion (p<0.001) that the treatment effect is statistically significant. Also, the narrow CI (0.0069–0.0089) suggests high certainty that the true CTR lift lies between 0.6% and 0.9%. This is critical for quantifying the business impact."
   ]
  },
  {
   "cell_type": "markdown",
   "id": "1091a2c6",
   "metadata": {},
   "source": [
    "## 4.2 Conclusion\n",
    "The treatment group (showing 1 organic like) achieves a statistically significant CTR improvement of 0.79% (11.8% relative increase) compared to the control group. The bootstrap method confirms this effect with a 95% confidence interval of (0.0069, 0.0089). The treatment group also exhibits higher variance in CTR, indicating heterogeneous user responses to social proof."
   ]
  },
  {
   "cell_type": "markdown",
   "id": "1f367f20",
   "metadata": {},
   "source": [
    "## 4.3 improve sensitive"
   ]
  },
  {
   "cell_type": "markdown",
   "id": "0f090a90",
   "metadata": {},
   "source": [
    "### 4.3.1 Method 1: CUPED"
   ]
  },
  {
   "cell_type": "markdown",
   "id": "ed4e5f30",
   "metadata": {},
   "source": [
    "After applying the CUPED adjustment using user_sns_like_cnt as the covariate, the adjusted click-through rates (CTR) are 6.66% for the control group and 7.45% for the treatment group.\n",
    "The t-test yields a highly significant t-statistic of 15.43 (p < 0.0001), indicating that the difference in CTR between treatment and control is statistically significant after adjustment.\n",
    "However, the reduction in standard deviation (like for treatmen from about 0.262593 to 0.262591) is relatively small, suggesting that user_sns_like_cnt alone may not be a strong covariate. More covariates could be considered to further improve the variance reduction and test sensitivity."
   ]
  },
  {
   "cell_type": "code",
   "execution_count": 34,
   "id": "1e74eb72",
   "metadata": {},
   "outputs": [
    {
     "name": "stdout",
     "output_type": "stream",
     "text": [
      "expid\n",
      "0    0.066603\n",
      "1    0.074507\n",
      "Name: If_click_adj, dtype: float64\n",
      "expid\n",
      "0    0.249335\n",
      "1    0.262591\n",
      "Name: If_click_adj, dtype: float64\n",
      "15.434507182195537 9.731616423447789e-54\n"
     ]
    }
   ],
   "source": [
    "def cuped_adjust(y, x):\n",
    "    theta = np.cov(y, x)[0,1] / np.var(x)\n",
    "    y_adj = y - theta * (x - np.mean(x))\n",
    "    return y_adj\n",
    "\n",
    "# Apply CUPED\n",
    "df['If_click_adj'] = cuped_adjust(df['if_click'], df['user_sns_like_cnt'])\n",
    "control_adj = df[df['expid'] == 0]['If_click_adj']\n",
    "treatment_adj = df[df['expid'] == 1]['If_click_adj']\n",
    "\n",
    "print(df.groupby('expid')['If_click_adj'].mean())\n",
    "print(df.groupby('expid')['If_click_adj'].std())\n",
    "\n",
    "# T-test on adjusted outcome\n",
    "t_stat_adj, p_val_adj = ttest_ind(treatment_adj, control_adj, equal_var=False)\n",
    "print(t_stat_adj, p_val_adj)"
   ]
  },
  {
   "cell_type": "markdown",
   "id": "764320ef",
   "metadata": {},
   "source": [
    "## 4.4 Multivariate CUPED"
   ]
  },
  {
   "cell_type": "markdown",
   "id": "9009ff74",
   "metadata": {},
   "source": [
    "After applying multi-variable CUPED adjustment using several user behavior covariates (user_sns_like_cnt, user_sns_comment_cnt, User_degree, and Real_like_cnt),\n",
    "the adjusted CTRs are 0.066603 for the control group and 0.074507 for the treatment group.\n",
    "The t-test yields a t-statistic of -15.44 with a p-value < 0.0001, indicating a highly significant difference in adjusted CTRs.\n",
    "Compared to single-variable CUPED, the variance reduction is slightly better (standard deviations decreased marginally), but the overall sensitivity is still primarily driven by the large sample size."
   ]
  },
  {
   "cell_type": "code",
   "execution_count": 35,
   "id": "39760fb4",
   "metadata": {},
   "outputs": [
    {
     "name": "stdout",
     "output_type": "stream",
     "text": [
      "T-test results after multivariate CUPED:\n",
      "t-statistic: -15.436472359739689\n",
      "p-value: 9.439732307805363e-54\n",
      "           mean       std\n",
      "expid                    \n",
      "0      0.066603  0.249315\n",
      "1      0.074507  0.262585\n"
     ]
    }
   ],
   "source": [
    "# assuming df is your DataFrame and it has been loaded correctly\n",
    "covariates = ['user_sns_like_cnt', 'user_sns_comment_cnt',\n",
    "               'user_degree', 'real_like_cnt']\n",
    "\n",
    "# drop rows with NaN in covariates or click\n",
    "df_cuped = df.dropna(subset=covariates + ['if_click'])\n",
    "\n",
    "X = df_cuped[covariates]\n",
    "y = df_cuped['if_click']\n",
    "\n",
    "model = LinearRegression().fit(X, y)\n",
    "\n",
    "# predict the click-through rate using the covariates\n",
    "y_pred = model.predict(X)\n",
    "\n",
    "# CUPED adjustment\n",
    "y_adj = y - (y_pred - y.mean())\n",
    "\n",
    "df_cuped['If_click_adj_multi'] = y_adj\n",
    "\n",
    "control_adj = df_cuped[df_cuped['expid'] == 0]['If_click_adj_multi']\n",
    "treatment_adj = df_cuped[df_cuped['expid'] == 1]['If_click_adj_multi']\n",
    "\n",
    "# T-test on adjusted outcome\n",
    "t_stat_adj, p_val_adj = ttest_ind(control_adj, treatment_adj, equal_var=False)\n",
    "\n",
    "print(\"T-test results after multivariate CUPED:\")\n",
    "print(f\"t-statistic: {t_stat_adj}\")\n",
    "print(f\"p-value: {p_val_adj}\")\n",
    "\n",
    "print(df_cuped.groupby('expid')['If_click_adj_multi'].agg(['mean', 'std']))\n"
   ]
  },
  {
   "cell_type": "markdown",
   "id": "0231d4fb",
   "metadata": {},
   "source": [
    "## 4.5 Stratification (gender, city, category)"
   ]
  },
  {
   "cell_type": "markdown",
   "id": "63cfa9df",
   "metadata": {},
   "source": [
    "we implemented stratified analysis with the primary goal of reducing variance and increasing the sensitivity of our estimation when comparing click-through rates (CTR) between the Treatment and Control groups.\n",
    "\n",
    "In A/B testing, if covariates such as gender, city, or ad category systematically influence CTR, a simple comparison of group-level averages may be biased or inefficient. By stratifying users based on these variables—gender, user_city, and category—and calculating within-stratum CTRs followed by a weighted average, we can better control for these confounding effects.\n",
    "\n",
    "In this part, we choose gender, city, and category for stratification analysis.\n",
    "\n"
   ]
  },
  {
   "cell_type": "code",
   "execution_count": 37,
   "id": "9a786c29",
   "metadata": {},
   "outputs": [],
   "source": [
    "def stratified_analysis_test(df, group_col, strata_col, outcome_col):\n",
    "    \"\"\"\n",
    "    Stratified analysis + visualization + t-test + SE comparison\n",
    "\n",
    "    Parameters:\n",
    "    df -- original data\n",
    "    group_col -- grouping column, such as 'group'\n",
    "    strata_col -- stratification column, such as 'user_city'\n",
    "    outcome_col -- result column, such as 'click'\n",
    "\n",
    "    Return:\n",
    "    stratified_df -- detailed table after stratification\n",
    "    summary -- weighted statistics for each group\n",
    "    t_test_result -- t-test statistic and p-value\n",
    "    e_comparison -- percentage change in SE before and after stratification\n",
    "    \"\"\"\n",
    "    # overall statistics\n",
    "    overall = df.groupby(group_col)[outcome_col].agg(\n",
    "        ['mean', 'count', 'std']).reset_index()\n",
    "    overall['se'] = overall['std'] / np.sqrt(overall['count'])\n",
    "\n",
    "    # stratified statistics\n",
    "    stratified = df.groupby([group_col, strata_col])[outcome_col].agg(\n",
    "        ['mean', 'count', 'std']).reset_index()\n",
    "    stratified['se'] = stratified['std'] / np.sqrt(stratified['count'])\n",
    "\n",
    "    summary = {}\n",
    "    stratified_means = {}\n",
    "\n",
    "    for group in stratified[group_col].unique():\n",
    "        subset = stratified[stratified[group_col] == group]\n",
    "        \n",
    "        weighted_mean = np.average(subset['mean'], weights=subset['count'])\n",
    "        \n",
    "        weighted_var = ((subset['se'] ** 2) * (subset['count'] ** 2)\n",
    "                        ).sum() / (subset['count'].sum() ** 2)\n",
    "        weighted_se = np.sqrt(weighted_var)\n",
    "        \n",
    "        weighted_std = weighted_se * np.sqrt(subset['count'].sum())\n",
    "\n",
    "        summary[group] = {\n",
    "            'weighted_mean': weighted_mean,\n",
    "            'weighted_se': weighted_se,\n",
    "            'weighted_std': weighted_std,\n",
    "            'total_count': subset['count'].sum()\n",
    "        }\n",
    "\n",
    "        stratified_means[group] = weighted_mean\n",
    "\n",
    "    # -- t test --\n",
    "    group0_mean = stratified_means[0]\n",
    "    group1_mean = stratified_means[1]\n",
    "    group0_se = summary[0]['weighted_se']\n",
    "    group1_se = summary[1]['weighted_se']\n",
    "\n",
    "    t_stat = (group1_mean - group0_mean) / np.sqrt(group0_se**2 + group1_se**2)\n",
    "\n",
    "    from scipy.stats import norm\n",
    "    p_value = 2 * (1 - norm.cdf(abs(t_stat)))\n",
    "\n",
    "    t_test_result = {'t_statistic': t_stat, 'p_value': p_value}\n",
    "\n",
    "    # compare SE before and after stratification\n",
    "    original_se0 = overall.loc[overall[group_col]==0, 'se'].values[0]\n",
    "    original_se1 = overall.loc[overall[group_col]==1, 'se'].values[0]\n",
    "\n",
    "    stratified_se0 = summary[0]['weighted_se']\n",
    "    stratified_se1 = summary[1]['weighted_se']\n",
    "\n",
    "    reduction0 = (original_se0 - stratified_se0) / original_se0 * 100\n",
    "    reduction1 = (original_se1 - stratified_se1) / original_se1 * 100\n",
    "\n",
    "    se_comparison = {\n",
    "        'Control SE reduction (%)': reduction0,\n",
    "        'Treatment SE reduction (%)': reduction1\n",
    "    }\n",
    "\n",
    "    # plotting\n",
    "    groups = list(summary.keys())\n",
    "    weighted_means = [summary[g]['weighted_mean'] for g in groups]\n",
    "    weighted_ses = [summary[g]['weighted_se'] for g in groups]\n",
    "\n",
    "    plt.figure(figsize=(8, 6))\n",
    "    plt.bar(groups, weighted_means, yerr=weighted_ses, capsize=5, \n",
    "            color=['skyblue', 'salmon'])\n",
    "    plt.xlabel('Group')\n",
    "    plt.ylabel('Weighted CTR')\n",
    "    plt.title(f'Weighted CTR by Group (Stratified by {strata_col})')\n",
    "    plt.xticks(groups)\n",
    "    plt.grid(axis='y', linestyle='--', alpha=0.7)\n",
    "    plt.show()\n",
    "\n",
    "    return stratified, summary, t_test_result, se_comparison\n"
   ]
  },
  {
   "cell_type": "markdown",
   "id": "fc967461",
   "metadata": {},
   "source": [
    "### 4.5.1 Stratifying by city\n",
    "\n",
    "After stratifying by city, the weighted CTR is 0.0666 for the Control group and 0.0745 for the Treatment group.\n",
    "\n",
    "The standard errors changed only marginally (SE reduction of about 0.0021% and 0.00055%, respectively), suggesting that city-level heterogeneity in CTR is minimal, and stratification by city has limited impact on variance reduction.\n",
    "\n",
    "Nevertheless, the t-test still yields a highly significant result (t = 15.43, p < 0.001), indicating a strong treatment effect overall."
   ]
  },
  {
   "cell_type": "code",
   "execution_count": 38,
   "id": "f3e6e544",
   "metadata": {},
   "outputs": [
    {
     "data": {
      "image/png": "[encoded data removed]",
      "text/plain": [
       "<Figure size 800x600 with 1 Axes>"
      ]
     },
     "metadata": {},
     "output_type": "display_data"
    },
    {
     "name": "stdout",
     "output_type": "stream",
     "text": [
      "----info----\n",
      "Group 0: Weighted CTR=0.0666, Weighted SE=0.000353, Weighted STD=0.249330\n",
      "Group 1: Weighted CTR=0.0745, Weighted SE=0.000371, Weighted STD=0.262591\n",
      "\n",
      "----t test----\n",
      "{'t_statistic': 15.430792802478825, 'p_value': 0.0}\n",
      "\n",
      "----SE change percentage (stratified sensitivity improvement)----\n",
      "{'Control SE reduction (%)': 0.002149270866631768, 'Treatment SE reduction (%)': 0.0005548966099489254}\n"
     ]
    }
   ],
   "source": [
    "stratified_df, summary, t_test_result, se_comparison = stratified_analysis_test(\n",
    "    df, group_col='expid', strata_col='user_city', outcome_col='if_click'\n",
    ")\n",
    "\n",
    "print(\"----info----\")\n",
    "for expid, info in summary.items():\n",
    "    print(f\"Group {expid}: Weighted CTR={info['weighted_mean']:.4f}, Weighted SE={info['weighted_se']:.6f}, Weighted STD={info['weighted_std']:.6f}\")\n",
    "\n",
    "print(\"\\n----t test----\")\n",
    "print(t_test_result)\n",
    "\n",
    "print(\"\\n----SE change percentage (stratified sensitivity improvement)----\")\n",
    "print(se_comparison)\n"
   ]
  },
  {
   "cell_type": "markdown",
   "id": "92b9ac6e",
   "metadata": {},
   "source": [
    "### 4.5.2 Stratifying by gender\n",
    "\n",
    "After stratifying by gender, the weighted CTR remains the same (0.0666 vs. 0.0745). However, the standard errors did not improve; they slightly increased (SE change around -0.00009%), indicating that gender does not significantly explain the variance in CTR. Gender is not an effective stratification variable in this context—likely due to balanced gender distribution or minimal gender influence on CTR."
   ]
  },
  {
   "cell_type": "code",
   "execution_count": 39,
   "id": "ef71d26e",
   "metadata": {},
   "outputs": [
    {
     "data": {
      "image/png": "[encoded data removed]",
      "text/plain": [
       "<Figure size 800x600 with 1 Axes>"
      ]
     },
     "metadata": {},
     "output_type": "display_data"
    },
    {
     "name": "stdout",
     "output_type": "stream",
     "text": [
      "----info----\n",
      "Group 0: Weighted CTR=0.0666, Weighted SE=0.000353, Weighted STD=0.249335\n",
      "Group 1: Weighted CTR=0.0745, Weighted SE=0.000371, Weighted STD=0.262593\n",
      "\n",
      "----t test----\n",
      "{'t_statistic': 15.430576362113849, 'p_value': 0.0}\n",
      "\n",
      "----SE change percentage (stratified sensitivity improvement)----\n",
      "{'Control SE reduction (%)': -9.004878223387991e-05, 'Treatment SE reduction (%)': -9.344655083062433e-05}\n"
     ]
    }
   ],
   "source": [
    "stratified_df, summary, t_test_result, se_comparison = stratified_analysis_test(\n",
    "    df, group_col='expid', strata_col='user_gender', outcome_col='if_click'\n",
    ")\n",
    "\n",
    "print(\"----info----\")\n",
    "for group, info in summary.items():\n",
    "    print(f\"Group {group}: Weighted CTR={info['weighted_mean']:.4f}, Weighted SE={info['weighted_se']:.6f}, Weighted STD={info['weighted_std']:.6f}\")\n",
    "\n",
    "print(\"\\n----t test----\")\n",
    "print(t_test_result)\n",
    "\n",
    "print(\"\\n----SE change percentage (stratified sensitivity improvement)----\")\n",
    "print(se_comparison)\n"
   ]
  },
  {
   "cell_type": "markdown",
   "id": "4d7bfe08",
   "metadata": {},
   "source": [
    "### 4.5.3 Stratifying by category\n",
    "\n",
    "Stratifying by category produced the most significant improvement in sensitivity: SE dropped 2.14% for Control，SE dropped 2.98% for Treatment\n",
    "\n",
    "While average CTR remains consistent, the reduction in estimation error indicates that ad category explains a meaningful portion of CTR variation.\n",
    "\n",
    "Conclusion: Category is a high-value stratification variable and should be prioritized in future experimental design or quota planning."
   ]
  },
  {
   "cell_type": "code",
   "execution_count": 40,
   "id": "f2788bdb",
   "metadata": {},
   "outputs": [
    {
     "data": {
      "image/png": "[encoded data removed]",
      "text/plain": [
       "<Figure size 800x600 with 1 Axes>"
      ]
     },
     "metadata": {},
     "output_type": "display_data"
    },
    {
     "name": "stdout",
     "output_type": "stream",
     "text": [
      "----info----\n",
      "Group 0: Weighted CTR=0.0666, Weighted SE=0.000353, Weighted STD=0.249282\n",
      "Group 1: Weighted CTR=0.0745, Weighted SE=0.000371, Weighted STD=0.262514\n",
      "\n",
      "----t test----\n",
      "{'t_statistic': 15.434580785250795, 'p_value': 0.0}\n",
      "\n",
      "----SE change percentage (stratified sensitivity improvement)----\n",
      "{'Control SE reduction (%)': 0.021419592717211333, 'Treatment SE reduction (%)': 0.029849599870161312}\n"
     ]
    }
   ],
   "source": [
    "stratified_df, summary, t_test_result, se_comparison = stratified_analysis_test(\n",
    "    df, group_col='expid', strata_col='category', outcome_col='if_click'\n",
    ")\n",
    "\n",
    "print(\"----info----\")\n",
    "for group, info in summary.items():\n",
    "    print(f\"Group {group}: Weighted CTR={info['weighted_mean']:.4f}, Weighted SE={info['weighted_se']:.6f}, Weighted STD={info['weighted_std']:.6f}\")\n",
    "\n",
    "print(\"\\n----t test----\")\n",
    "print(t_test_result)\n",
    "\n",
    "print(\"\\n----SE change percentage (stratified sensitivity improvement)----\")\n",
    "print(se_comparison)"
   ]
  },
  {
   "cell_type": "markdown",
   "id": "34ab8172",
   "metadata": {},
   "source": [
    "## 4.6 Covariate Adjustment (Regression)"
   ]
  },
  {
   "cell_type": "markdown",
   "id": "42c1d045",
   "metadata": {},
   "source": [
    "The model adjusts for the potential confounding effects of various covariates, such as demographic information (e.g., user_gender, user_age), user behaviors (e.g., user_sns_like_cnt), and other ad-related variables (e.g., category, brand_effect). By adjusting for these covariates, the model attempts to isolate the effect of the primary treatment variable group (control vs. treatment) on the outcome (click).\n",
    "\n",
    "We can find that Group variable (Treatment Effect): The group variable has a significant positive coefficient (0.0079, p-value < 0.001), indicating that, on average, the treatment group has a higher click-through rate (CTR) than the control group.The covariate adjustment increases sensitivity by reducing bias that could arise from omitting important variables.\n",
    "\n",
    "In addition, we also find something intersting like:\n",
    "\n",
    "Brand effect and Experience goods have a significant negative effect on CTR, which may suggest that ads for well-known brands or experience-based products lead to lower engagement.\n",
    "\n",
    "User demographics: Gender and city-level variables show some variation in the coefficients but are not as significant in driving CTR (for example, user_gender[T.male] is not significant). \n",
    "\n",
    "Week: There is a significant decline in CTR in weeks 2 and 3 compared to week 1, as indicated by the negative coefficients for week[T.w_2] and week[T.w_3]."
   ]
  },
  {
   "cell_type": "code",
   "execution_count": 41,
   "id": "32059680",
   "metadata": {},
   "outputs": [
    {
     "name": "stdout",
     "output_type": "stream",
     "text": [
      "                            OLS Regression Results                            \n",
      "==============================================================================\n",
      "Dep. Variable:               if_click   R-squared:                       0.002\n",
      "Model:                            OLS   Adj. R-squared:                  0.002\n",
      "Method:                 Least Squares   F-statistic:                     103.4\n",
      "Date:                  週三, 30 四月 2025   Prob (F-statistic):               0.00\n",
      "Time:                        18:23:58   Log-Likelihood:                -55486.\n",
      "No. Observations:             1000000   AIC:                         1.110e+05\n",
      "Df Residuals:                  999976   BIC:                         1.113e+05\n",
      "Df Model:                          23                                         \n",
      "Covariance Type:            nonrobust                                         \n",
      "==========================================================================================\n",
      "                             coef    std err          t      P>|t|      [0.025      0.975]\n",
      "------------------------------------------------------------------------------------------\n",
      "Intercept                  0.1168      0.003     35.583      0.000       0.110       0.123\n",
      "user_gender[T.male]        0.0002      0.001      0.423      0.672      -0.001       0.001\n",
      "user_city[T.level_2]      -0.0021      0.001     -3.140      0.002      -0.003      -0.001\n",
      "user_city[T.level_3]      -0.0014      0.001     -1.829      0.067      -0.003       0.000\n",
      "friend_gender[T.male]     -0.0008      0.001     -1.578      0.115      -0.002       0.000\n",
      "friend_city[T.level_2]     0.0002      0.001      0.331      0.741      -0.001       0.002\n",
      "friend_city[T.level_3]     0.0018      0.001      2.410      0.016       0.000       0.003\n",
      "category[T.Car]            0.0342      0.005      6.475      0.000       0.024       0.045\n",
      "category[T.Clothes]        0.0364      0.005      6.860      0.000       0.026       0.047\n",
      "category[T.Cosmetrics]     0.0006      0.002      0.296      0.767      -0.003       0.005\n",
      "category[T.Jewelry]       -0.0012      0.002     -0.503      0.615      -0.006       0.004\n",
      "C(week)[T.w_2]            -0.0183      0.001    -21.387      0.000      -0.020      -0.017\n",
      "C(week)[T.w_3]            -0.0253      0.001    -22.753      0.000      -0.027      -0.023\n",
      "expid                      0.0079      0.001     15.515      0.000       0.007       0.009\n",
      "user_sns_like_cnt       1.489e-06   1.24e-06      1.198      0.231   -9.48e-07    3.93e-06\n",
      "user_sns_comment_cnt   -4.373e-07   1.31e-06     -0.333      0.739   -3.01e-06    2.14e-06\n",
      "user_degree             4.089e-06   6.24e-07      6.548      0.000    2.86e-06    5.31e-06\n",
      "real_like_cnt          -7.749e-05      0.000     -0.700      0.484      -0.000       0.000\n",
      "user_age               -3.571e-05   4.22e-05     -0.846      0.398      -0.000     4.7e-05\n",
      "friend_age              9.952e-05   4.39e-05      2.267      0.023    1.35e-05       0.000\n",
      "friend_degree          -5.098e-08   3.06e-07     -0.167      0.868    -6.5e-07    5.49e-07\n",
      "brand_effect              -0.0422      0.005     -8.769      0.000      -0.052      -0.033\n",
      "experience                -0.0435      0.003    -16.966      0.000      -0.049      -0.038\n",
      "status                     0.0148      0.002      6.402      0.000       0.010       0.019\n",
      "==============================================================================\n",
      "Omnibus:                   663454.324   Durbin-Watson:                   2.000\n",
      "Prob(Omnibus):                  0.000   Jarque-Bera (JB):          5396209.355\n",
      "Skew:                           3.343   Prob(JB):                         0.00\n",
      "Kurtosis:                      12.210   Cond. No.                     4.50e+04\n",
      "==============================================================================\n",
      "\n",
      "Notes:\n",
      "[1] Standard Errors assume that the covariance matrix of the errors is correctly specified.\n",
      "[2] The condition number is large, 4.5e+04. This might indicate that there are\n",
      "strong multicollinearity or other numerical problems.\n"
     ]
    }
   ],
   "source": [
    "# Regression model with covariates\n",
    "model_covariate = smf.ols('if_click ~ ' \\\n",
    "'expid + user_sns_like_cnt + user_sns_comment_cnt '\n",
    "'+ user_degree + real_like_cnt + user_age + user_gender + ' \\\n",
    "'user_city + friend_age + friend_gender + ' \\\n",
    "'friend_city + friend_degree + ' \\\n",
    "'category + brand_effect + experience + status + C(week)', data=df).fit()\n",
    "\n",
    "# OUTPUT\n",
    "print(model_covariate.summary())\n"
   ]
  },
  {
   "cell_type": "markdown",
   "id": "ce29622e",
   "metadata": {},
   "source": [
    "# 5. Analyze the Heterogeneous Treatment Effects (HTE)"
   ]
  },
  {
   "cell_type": "code",
   "execution_count": 42,
   "id": "8e491e4e",
   "metadata": {},
   "outputs": [
    {
     "name": "stdout",
     "output_type": "stream",
     "text": [
      "Preprocessing complete. Summary of new features:\n"
     ]
    },
    {
     "data": {
      "application/vnd.microsoft.datawrangler.viewer.v0+json": {
       "columns": [
        {
         "name": "index",
         "rawType": "object",
         "type": "string"
        },
        {
         "name": "treat",
         "rawType": "float64",
         "type": "float"
        },
        {
         "name": "rel_status_z",
         "rawType": "float64",
         "type": "float"
        },
        {
         "name": "real_like_z",
         "rawType": "float64",
         "type": "float"
        }
       ],
       "conversionMethod": "pd.DataFrame",
       "ref": "8225536a-3238-4899-9219-56189bddd751",
       "rows": [
        [
         "count",
         "1000000.0",
         "1000000.0",
         "1000000.0"
        ],
        [
         "mean",
         "0.5",
         "4.141753606745624e-17",
         "5.8241411693416e-17"
        ],
        [
         "std",
         "0.5000002500001876",
         "1.000000000000091",
         "0.9999999999940884"
        ],
        [
         "min",
         "0.0",
         "-14.452374364124235",
         "-0.7485188844962425"
        ],
        [
         "25%",
         "0.0",
         "-0.44376960591715214",
         "-0.7485188844962425"
        ],
        [
         "50%",
         "0.5",
         "-0.19922477589720144",
         "0.0635403899915737"
        ],
        [
         "75%",
         "1.0",
         "0.16534893858208285",
         "0.0635403899915737"
        ],
        [
         "max",
         "1.0",
         "19.074946184666068",
         "52.847393231699634"
        ]
       ],
       "shape": {
        "columns": 3,
        "rows": 8
       }
      },
      "text/html": [
       "<div>\n",
       "<style scoped>\n",
       "    .dataframe tbody tr th:only-of-type {\n",
       "        vertical-align: middle;\n",
       "    }\n",
       "\n",
       "    .dataframe tbody tr th {\n",
       "        vertical-align: top;\n",
       "    }\n",
       "\n",
       "    .dataframe thead th {\n",
       "        text-align: right;\n",
       "    }\n",
       "</style>\n",
       "<table border=\"1\" class=\"dataframe\">\n",
       "  <thead>\n",
       "    <tr style=\"text-align: right;\">\n",
       "      <th></th>\n",
       "      <th>treat</th>\n",
       "      <th>rel_status_z</th>\n",
       "      <th>real_like_z</th>\n",
       "    </tr>\n",
       "  </thead>\n",
       "  <tbody>\n",
       "    <tr>\n",
       "      <th>count</th>\n",
       "      <td>1000000.0</td>\n",
       "      <td>1.000000e+06</td>\n",
       "      <td>1.000000e+06</td>\n",
       "    </tr>\n",
       "    <tr>\n",
       "      <th>mean</th>\n",
       "      <td>0.5</td>\n",
       "      <td>4.141754e-17</td>\n",
       "      <td>5.824141e-17</td>\n",
       "    </tr>\n",
       "    <tr>\n",
       "      <th>std</th>\n",
       "      <td>0.5</td>\n",
       "      <td>1.000000e+00</td>\n",
       "      <td>1.000000e+00</td>\n",
       "    </tr>\n",
       "    <tr>\n",
       "      <th>min</th>\n",
       "      <td>0.0</td>\n",
       "      <td>-1.445237e+01</td>\n",
       "      <td>-7.485189e-01</td>\n",
       "    </tr>\n",
       "    <tr>\n",
       "      <th>25%</th>\n",
       "      <td>0.0</td>\n",
       "      <td>-4.437696e-01</td>\n",
       "      <td>-7.485189e-01</td>\n",
       "    </tr>\n",
       "    <tr>\n",
       "      <th>50%</th>\n",
       "      <td>0.5</td>\n",
       "      <td>-1.992248e-01</td>\n",
       "      <td>6.354039e-02</td>\n",
       "    </tr>\n",
       "    <tr>\n",
       "      <th>75%</th>\n",
       "      <td>1.0</td>\n",
       "      <td>1.653489e-01</td>\n",
       "      <td>6.354039e-02</td>\n",
       "    </tr>\n",
       "    <tr>\n",
       "      <th>max</th>\n",
       "      <td>1.0</td>\n",
       "      <td>1.907495e+01</td>\n",
       "      <td>5.284739e+01</td>\n",
       "    </tr>\n",
       "  </tbody>\n",
       "</table>\n",
       "</div>"
      ],
      "text/plain": [
       "           treat  rel_status_z   real_like_z\n",
       "count  1000000.0  1.000000e+06  1.000000e+06\n",
       "mean         0.5  4.141754e-17  5.824141e-17\n",
       "std          0.5  1.000000e+00  1.000000e+00\n",
       "min          0.0 -1.445237e+01 -7.485189e-01\n",
       "25%          0.0 -4.437696e-01 -7.485189e-01\n",
       "50%          0.5 -1.992248e-01  6.354039e-02\n",
       "75%          1.0  1.653489e-01  6.354039e-02\n",
       "max          1.0  1.907495e+01  5.284739e+01"
      ]
     },
     "execution_count": 42,
     "metadata": {},
     "output_type": "execute_result"
    }
   ],
   "source": [
    "# 2.1 Create treatment indicator\n",
    "df['treat'] = df['expid']\n",
    "\n",
    "# 2.2 Ensure product-type flags\n",
    "df['status']     = df['status']\n",
    "df['experience'] = df['experience']\n",
    "\n",
    "# 2.3 Compute relative status and standardize\n",
    "df['rel_status']   = df['friend_degree'] - df['user_degree']\n",
    "df['rel_status_z'] = (\n",
    "    df['rel_status'] - df['rel_status'].mean()) / df['rel_status'].std()\n",
    "\n",
    "# 2.4 Standardize friend popularity (real_like_cnt)\n",
    "df['real_like_z'] = (\n",
    "    df['real_like_cnt'] - df['real_like_cnt'].mean()) / df['real_like_cnt'].std()\n",
    "\n",
    "# 2.5 Convert certain columns to categorical dtype\n",
    "categorical_cols = ['user_gender','friend_gender',\n",
    "                    'week','category','user_city','friend_city']\n",
    "for col in categorical_cols:\n",
    "    if col in df.columns:\n",
    "        df[col] = df[col].astype('category')\n",
    "\n",
    "print(\"Preprocessing complete. Summary of new features:\")\n",
    "df[['treat','rel_status_z','real_like_z']].describe()\n"
   ]
  },
  {
   "cell_type": "markdown",
   "id": "34654ceb",
   "metadata": {},
   "source": [
    "## 5.1 Compute Average Treatment Effect (ATE)"
   ]
  },
  {
   "cell_type": "markdown",
   "id": "0023150c",
   "metadata": {},
   "source": [
    " The treatment increases the click-through rate from 6.66% to 7.45%, an approximate 0.8 pp gain (nearly 12% relative improvement). \n",
    " This suggests a positive average treatment effect."
   ]
  },
  {
   "cell_type": "code",
   "execution_count": 43,
   "id": "56a76853",
   "metadata": {},
   "outputs": [
    {
     "name": "stdout",
     "output_type": "stream",
     "text": [
      "=== 1. Average Treatment Effect (ATE) ===\n",
      "treat\n",
      "0    0.066604\n",
      "1    0.074506\n"
     ]
    }
   ],
   "source": [
    "print(\"=== 1. Average Treatment Effect (ATE) ===\")\n",
    "ate = df.groupby('treat')['if_click'].mean().rename('ctr')\n",
    "print(ate.to_string())"
   ]
  },
  {
   "cell_type": "markdown",
   "id": "beefb43f",
   "metadata": {},
   "source": [
    "## 5.2 HTE by Product Type"
   ]
  },
  {
   "cell_type": "markdown",
   "id": "8201f89b",
   "metadata": {},
   "source": [
    "The logit shows a clear positive treatment effect (coef = 0.1267, p < 0.001). The interaction with status‐type (coef = –0.0072, p = 0.707) and with experience‐type (coef = 0.0111, p = 0.834) are both near zero and non-significant. In other words, the uplift in click probability from the treatment is essentially the same for status and experience products."
   ]
  },
  {
   "cell_type": "code",
   "execution_count": 44,
   "id": "43a02a05",
   "metadata": {},
   "outputs": [
    {
     "name": "stdout",
     "output_type": "stream",
     "text": [
      "---- HTE: treat × status ----\n",
      "                           Logit Regression Results                           \n",
      "==============================================================================\n",
      "Dep. Variable:               if_click   No. Observations:              1000000\n",
      "Model:                          Logit   Df Residuals:                   999990\n",
      "Method:                           MLE   Df Model:                            9\n",
      "Date:                  週三, 30 四月 2025   Pseudo R-squ.:                0.003516\n",
      "Time:                        18:24:28   Log-Likelihood:            -2.5418e+05\n",
      "converged:                       True   LL-Null:                   -2.5507e+05\n",
      "Covariance Type:            nonrobust   LLR p-value:                     0.000\n",
      "============================================================================================\n",
      "                               coef    std err          z      P>|z|      [0.025      0.975]\n",
      "--------------------------------------------------------------------------------------------\n",
      "Intercept                   -2.6237      0.027    -95.705      0.000      -2.677      -2.570\n",
      "C(user_gender)[T.male]       0.0033      0.008      0.426      0.670      -0.012       0.019\n",
      "C(friend_gender)[T.male]    -0.0123      0.008     -1.575      0.115      -0.028       0.003\n",
      "C(week)[T.w_2]              -0.3043      0.011    -26.671      0.000      -0.327      -0.282\n",
      "C(week)[T.w_3]              -0.4365      0.011    -39.642      0.000      -0.458      -0.415\n",
      "treat                        0.1267      0.017      7.465      0.000       0.093       0.160\n",
      "status                       0.1915      0.015     12.930      0.000       0.162       0.220\n",
      "treat:status                -0.0072      0.019     -0.376      0.707      -0.045       0.030\n",
      "user_age                     0.0012      0.001      1.939      0.053   -1.34e-05       0.002\n",
      "friend_age                   0.0035      0.001      5.363      0.000       0.002       0.005\n",
      "============================================================================================\n",
      "---- HTE: treat × experience ----\n",
      "                           Logit Regression Results                           \n",
      "==============================================================================\n",
      "Dep. Variable:               if_click   No. Observations:              1000000\n",
      "Model:                          Logit   Df Residuals:                   999990\n",
      "Method:                           MLE   Df Model:                            9\n",
      "Date:                  週三, 30 四月 2025   Pseudo R-squ.:                0.003342\n",
      "Time:                        18:24:34   Log-Likelihood:            -2.5422e+05\n",
      "converged:                       True   LL-Null:                   -2.5507e+05\n",
      "Covariance Type:            nonrobust   LLR p-value:                     0.000\n",
      "============================================================================================\n",
      "                               coef    std err          z      P>|z|      [0.025      0.975]\n",
      "--------------------------------------------------------------------------------------------\n",
      "Intercept                   -2.1211      0.048    -43.791      0.000      -2.216      -2.026\n",
      "C(user_gender)[T.male]       0.0035      0.008      0.445      0.656      -0.012       0.019\n",
      "C(friend_gender)[T.male]    -0.0123      0.008     -1.569      0.117      -0.028       0.003\n",
      "C(week)[T.w_2]              -0.2406      0.012    -20.652      0.000      -0.263      -0.218\n",
      "C(week)[T.w_3]              -0.3140      0.010    -29.928      0.000      -0.335      -0.293\n",
      "treat                        0.1103      0.052      2.102      0.036       0.007       0.213\n",
      "experience                  -0.4388      0.039    -11.142      0.000      -0.516      -0.362\n",
      "treat:experience             0.0111      0.053      0.209      0.834      -0.093       0.115\n",
      "user_age                     0.0012      0.001      1.957      0.050   -1.75e-06       0.002\n",
      "friend_age                   0.0034      0.001      5.159      0.000       0.002       0.005\n",
      "============================================================================================\n"
     ]
    }
   ],
   "source": [
    "# 4.1 HTE for status‐type products\n",
    "m_status = smf.logit(\n",
    "    'if_click ~ treat + status + treat:status + user_age + friend_age '\n",
    "    '+ C(user_gender) + C(friend_gender) + C(week)',\n",
    "    data=df\n",
    ").fit(disp=False)\n",
    "print(\"---- HTE: treat × status ----\")\n",
    "print(m_status.summary())\n",
    "\n",
    "# 4.2 HTE for experience‐type products\n",
    "m_exp = smf.logit(\n",
    "    'if_click ~ treat + experience + treat:experience + user_age + friend_age '\n",
    "    '+ C(user_gender) + C(friend_gender) + C(week)',\n",
    "    data=df\n",
    ").fit(disp=False)\n",
    "print(\"---- HTE: treat × experience ----\")\n",
    "print(m_exp.summary())\n"
   ]
  },
  {
   "cell_type": "markdown",
   "id": "9f99961f",
   "metadata": {},
   "source": [
    "## 5.3 HTE by Friend Characteristics"
   ]
  },
  {
   "cell_type": "markdown",
   "id": "ff3dbcf7",
   "metadata": {},
   "source": [
    "Relative Status: The coefficient for treat × rel_status_z (0.0075, p=0.336) is effectively zero and not significant—meaning the treatment’s impact on click‐through doesn’t depend on whether the friend is of higher or lower social status. Interestingly, the standalone effect of rel_status_z is slightly negative (–0.0165, p=0.004), suggesting that ads liked by friends with relatively higher status actually show a modest drop in baseline CTR.\n",
    "\n",
    "Friend Likes: In contrast, the interaction between treatment and standardized like count is negative and significant (treat × real_like_z = –0.0266, p=0.001). This shows that the more friends have already “liked” the ad, the smaller the incremental gain from revealing those likes. Nevertheless, a higher real_like_z on its own predicts a higher baseline click rate (0.0185, p=0.001)."
   ]
  },
  {
   "cell_type": "code",
   "execution_count": 45,
   "id": "9d679554",
   "metadata": {},
   "outputs": [
    {
     "name": "stdout",
     "output_type": "stream",
     "text": [
      "---- HTE: treat × rel_status_z ----\n",
      "                           Logit Regression Results                           \n",
      "==============================================================================\n",
      "Dep. Variable:               if_click   No. Observations:              1000000\n",
      "Model:                          Logit   Df Residuals:                   999990\n",
      "Method:                           MLE   Df Model:                            9\n",
      "Date:                  週三, 30 四月 2025   Pseudo R-squ.:                0.002942\n",
      "Time:                        18:24:44   Log-Likelihood:            -2.5432e+05\n",
      "converged:                       True   LL-Null:                   -2.5507e+05\n",
      "Covariance Type:            nonrobust   LLR p-value:                     0.000\n",
      "============================================================================================\n",
      "                               coef    std err          z      P>|z|      [0.025      0.975]\n",
      "--------------------------------------------------------------------------------------------\n",
      "Intercept                   -2.5970      0.026    -99.447      0.000      -2.648      -2.546\n",
      "C(user_gender)[T.male]       0.0035      0.008      0.448      0.654      -0.012       0.019\n",
      "C(friend_gender)[T.male]    -0.0123      0.008     -1.571      0.116      -0.028       0.003\n",
      "C(week)[T.w_2]              -0.2786      0.011    -24.634      0.000      -0.301      -0.256\n",
      "C(week)[T.w_3]              -0.3564      0.010    -35.486      0.000      -0.376      -0.337\n",
      "treat                        0.1209      0.008     15.444      0.000       0.106       0.136\n",
      "rel_status_z                -0.0165      0.006     -2.896      0.004      -0.028      -0.005\n",
      "treat:rel_status_z           0.0075      0.008      0.962      0.336      -0.008       0.023\n",
      "user_age                     0.0023      0.001      3.587      0.000       0.001       0.003\n",
      "friend_age                   0.0048      0.001      7.307      0.000       0.003       0.006\n",
      "============================================================================================\n",
      "---- HTE: treat × real_like_z ----\n",
      "                           Logit Regression Results                           \n",
      "==============================================================================\n",
      "Dep. Variable:               if_click   No. Observations:              1000000\n",
      "Model:                          Logit   Df Residuals:                   999990\n",
      "Method:                           MLE   Df Model:                            9\n",
      "Date:                  週三, 30 四月 2025   Pseudo R-squ.:                0.002945\n",
      "Time:                        18:24:50   Log-Likelihood:            -2.5432e+05\n",
      "converged:                       True   LL-Null:                   -2.5507e+05\n",
      "Covariance Type:            nonrobust   LLR p-value:                     0.000\n",
      "============================================================================================\n",
      "                               coef    std err          z      P>|z|      [0.025      0.975]\n",
      "--------------------------------------------------------------------------------------------\n",
      "Intercept                   -2.5942      0.026    -99.401      0.000      -2.645      -2.543\n",
      "C(user_gender)[T.male]       0.0035      0.008      0.452      0.651      -0.012       0.019\n",
      "C(friend_gender)[T.male]    -0.0123      0.008     -1.575      0.115      -0.028       0.003\n",
      "C(week)[T.w_2]              -0.2779      0.011    -24.573      0.000      -0.300      -0.256\n",
      "C(week)[T.w_3]              -0.3566      0.010    -35.320      0.000      -0.376      -0.337\n",
      "treat                        0.1207      0.008     15.422      0.000       0.105       0.136\n",
      "real_like_z                  0.0185      0.005      3.386      0.001       0.008       0.029\n",
      "treat:real_like_z           -0.0266      0.008     -3.392      0.001      -0.042      -0.011\n",
      "user_age                     0.0023      0.001      3.625      0.000       0.001       0.004\n",
      "friend_age                   0.0046      0.001      7.147      0.000       0.003       0.006\n",
      "============================================================================================\n"
     ]
    }
   ],
   "source": [
    "# 5.1 Interaction with relative status\n",
    "m_rel_status = smf.logit(\n",
    "    'if_click ~ treat * rel_status_z + user_age + friend_age '\n",
    "    '+ C(user_gender) + C(friend_gender) + C(week)',\n",
    "    data=df\n",
    ").fit(disp=False)\n",
    "print(\"---- HTE: treat × rel_status_z ----\")\n",
    "print(m_rel_status.summary())\n",
    "\n",
    "# 5.2 Interaction with friend popularity\n",
    "m_rel_like = smf.logit(\n",
    "    'if_click ~ treat * real_like_z + user_age + friend_age '\n",
    "    '+ C(user_gender) + C(friend_gender) + C(week)',\n",
    "    data=df\n",
    ").fit(disp=False)\n",
    "print(\"---- HTE: treat × real_like_z ----\")\n",
    "print(m_rel_like.summary())\n"
   ]
  },
  {
   "cell_type": "markdown",
   "id": "b1a18fc7",
   "metadata": {},
   "source": [
    "## 5.4 Three-Way Interactions"
   ]
  },
  {
   "cell_type": "markdown",
   "id": "008b33cf",
   "metadata": {},
   "source": [
    "When we test the three-way splits—combining treatment, product type, and friend feature—none of those higher-order interactions matter. Both:\n",
    "\n",
    "treat × status × rel_status_z (coef ≈ 0.0096, p≈0.59)\n",
    "\n",
    "treat × experience × real_like_z (coef ≈ 0.0335, p≈0.72)\n",
    "\n",
    "are essentially zero and not statistically significant. In short, even when you look simultaneously at product type and friend status or popularity, the treatment lift stays the same."
   ]
  },
  {
   "cell_type": "code",
   "execution_count": 46,
   "id": "078d4c9d",
   "metadata": {},
   "outputs": [
    {
     "name": "stdout",
     "output_type": "stream",
     "text": [
      "---- 3-way: treat × status × rel_status_z ----\n",
      "                           Logit Regression Results                           \n",
      "==============================================================================\n",
      "Dep. Variable:               if_click   No. Observations:              1000000\n",
      "Model:                          Logit   Df Residuals:                   999986\n",
      "Method:                           MLE   Df Model:                           13\n",
      "Date:                  週三, 30 四月 2025   Pseudo R-squ.:                0.003534\n",
      "Time:                        18:24:59   Log-Likelihood:            -2.5417e+05\n",
      "converged:                       True   LL-Null:                   -2.5507e+05\n",
      "Covariance Type:            nonrobust   LLR p-value:                     0.000\n",
      "=============================================================================================\n",
      "                                coef    std err          z      P>|z|      [0.025      0.975]\n",
      "---------------------------------------------------------------------------------------------\n",
      "Intercept                    -2.6267      0.027    -95.753      0.000      -2.680      -2.573\n",
      "C(user_gender)[T.male]        0.0033      0.008      0.425      0.671      -0.012       0.019\n",
      "C(friend_gender)[T.male]     -0.0123      0.008     -1.572      0.116      -0.028       0.003\n",
      "C(week)[T.w_2]               -0.3051      0.011    -26.736      0.000      -0.327      -0.283\n",
      "C(week)[T.w_3]               -0.4370      0.011    -39.679      0.000      -0.459      -0.415\n",
      "treat                         0.1267      0.017      7.457      0.000       0.093       0.160\n",
      "status                        0.1903      0.015     12.841      0.000       0.161       0.219\n",
      "treat:status                 -0.0070      0.019     -0.365      0.715      -0.045       0.031\n",
      "rel_status_z                 -0.0170      0.011     -1.572      0.116      -0.038       0.004\n",
      "treat:rel_status_z            0.0006      0.015      0.037      0.970      -0.029       0.030\n",
      "status:rel_status_z           0.0033      0.013      0.259      0.796      -0.022       0.028\n",
      "treat:status:rel_status_z     0.0096      0.018      0.546      0.585      -0.025       0.044\n",
      "user_age                      0.0012      0.001      1.949      0.051   -6.81e-06       0.002\n",
      "friend_age                    0.0036      0.001      5.549      0.000       0.002       0.005\n",
      "=============================================================================================\n",
      "---- 3-way: treat × experience × real_like_z ----\n",
      "                           Logit Regression Results                           \n",
      "==============================================================================\n",
      "Dep. Variable:               if_click   No. Observations:              1000000\n",
      "Model:                          Logit   Df Residuals:                   999986\n",
      "Method:                           MLE   Df Model:                           13\n",
      "Date:                  週三, 30 四月 2025   Pseudo R-squ.:                0.003375\n",
      "Time:                        18:25:05   Log-Likelihood:            -2.5421e+05\n",
      "converged:                       True   LL-Null:                   -2.5507e+05\n",
      "Covariance Type:            nonrobust   LLR p-value:                     0.000\n",
      "================================================================================================\n",
      "                                   coef    std err          z      P>|z|      [0.025      0.975]\n",
      "------------------------------------------------------------------------------------------------\n",
      "Intercept                       -2.0981      0.050    -42.120      0.000      -2.196      -2.001\n",
      "C(user_gender)[T.male]           0.0035      0.008      0.450      0.653      -0.012       0.019\n",
      "C(friend_gender)[T.male]        -0.0123      0.008     -1.573      0.116      -0.028       0.003\n",
      "C(week)[T.w_2]                  -0.2409      0.012    -20.667      0.000      -0.264      -0.218\n",
      "C(week)[T.w_3]                  -0.3151      0.011    -29.868      0.000      -0.336      -0.294\n",
      "treat                            0.1003      0.056      1.807      0.071      -0.009       0.209\n",
      "experience                      -0.4625      0.041    -11.262      0.000      -0.543      -0.382\n",
      "treat:experience                 0.0210      0.056      0.375      0.708      -0.089       0.131\n",
      "real_like_z                      0.1262      0.064      1.960      0.050    3.32e-05       0.252\n",
      "treat:real_like_z               -0.0599      0.092     -0.651      0.515      -0.240       0.120\n",
      "experience:real_like_z          -0.1085      0.065     -1.679      0.093      -0.235       0.018\n",
      "treat:experience:real_like_z     0.0335      0.092      0.363      0.717      -0.148       0.215\n",
      "user_age                         0.0013      0.001      1.986      0.047    1.62e-05       0.003\n",
      "friend_age                       0.0034      0.001      5.187      0.000       0.002       0.005\n",
      "================================================================================================\n"
     ]
    }
   ],
   "source": [
    "# 6.1 status × relative status\n",
    "m_3way_status = smf.logit(\n",
    "    'if_click ~ treat * status * rel_status_z + user_age + friend_age '\n",
    "    '+ C(user_gender) + C(friend_gender) + C(week)',\n",
    "    data=df\n",
    ").fit(disp=False)\n",
    "print(\"---- 3-way: treat × status × rel_status_z ----\")\n",
    "print(m_3way_status.summary())\n",
    "\n",
    "# 6.2 experience × friend popularity\n",
    "m_3way_like = smf.logit(\n",
    "    'if_click ~ treat * experience * real_like_z + user_age + friend_age '\n",
    "    '+ C(user_gender) + C(friend_gender) + C(week)',\n",
    "    data=df\n",
    ").fit(disp=False)\n",
    "print(\"---- 3-way: treat × experience × real_like_z ----\")\n",
    "print(m_3way_like.summary())\n"
   ]
  },
  {
   "cell_type": "markdown",
   "id": "323c3ffa",
   "metadata": {},
   "source": [
    "## 5.5 Robustness Check with Clustered SE"
   ]
  },
  {
   "cell_type": "markdown",
   "id": "94889f58",
   "metadata": {},
   "source": [
    "Robustness Check (clustered by adid):\n",
    "\n",
    "• Treatment effect remains strong (coef = 0.1174, p < 0.001).\n",
    "\n",
    "• Status‐goods baseline uplift: +0.1694 (p = 0.013); Experience‐goods: –0.3623 (p < 0.001).\n",
    "\n",
    "• No type‐specific lift: treat×status (p = 0.752), treat×experience (p = 0.553).\n",
    "\n",
    "• Friend features lose significance when clustering: rel_status_z (p = 0.141), real_like_z (p = 0.912).\n",
    "\n",
    "The positive average treatment effect and the lack of heterogeneity by product type are robust."
   ]
  },
  {
   "cell_type": "code",
   "execution_count": 47,
   "id": "c0d52179",
   "metadata": {},
   "outputs": [
    {
     "name": "stdout",
     "output_type": "stream",
     "text": [
      "=== Robust SE with Clustering on adid ===\n",
      "                           Logit Regression Results                           \n",
      "==============================================================================\n",
      "Dep. Variable:               if_click   No. Observations:              1000000\n",
      "Model:                          Logit   Df Residuals:                   999986\n",
      "Method:                           MLE   Df Model:                           13\n",
      "Date:                  週三, 30 四月 2025   Pseudo R-squ.:                0.003815\n",
      "Time:                        18:25:15   Log-Likelihood:            -2.5410e+05\n",
      "converged:                       True   LL-Null:                   -2.5507e+05\n",
      "Covariance Type:              cluster   LLR p-value:                     0.000\n",
      "============================================================================================\n",
      "                               coef    std err          z      P>|z|      [0.025      0.975]\n",
      "--------------------------------------------------------------------------------------------\n",
      "Intercept                   -2.2323      0.307     -7.281      0.000      -2.833      -1.631\n",
      "C(user_gender)[T.male]       0.0033      0.006      0.549      0.583      -0.009       0.015\n",
      "C(friend_gender)[T.male]    -0.0123      0.008     -1.609      0.108      -0.027       0.003\n",
      "C(week)[T.w_2]              -0.2707      0.050     -5.420      0.000      -0.369      -0.173\n",
      "C(week)[T.w_3]              -0.3938      0.092     -4.271      0.000      -0.574      -0.213\n",
      "treat                        0.1174      0.022      5.400      0.000       0.075       0.160\n",
      "status                       0.1694      0.068      2.478      0.013       0.035       0.303\n",
      "experience                  -0.3623      0.077     -4.723      0.000      -0.513      -0.212\n",
      "treat:status                -0.0067      0.021     -0.316      0.752      -0.049       0.035\n",
      "treat:experience             0.0093      0.016      0.594      0.553      -0.021       0.040\n",
      "rel_status_z                -0.0110      0.007     -1.471      0.141      -0.026       0.004\n",
      "real_like_z                  0.0012      0.011      0.111      0.912      -0.021       0.023\n",
      "user_age                     0.0005      0.004      0.125      0.900      -0.007       0.008\n",
      "friend_age                   0.0027      0.004      0.649      0.517      -0.005       0.011\n",
      "============================================================================================\n"
     ]
    }
   ],
   "source": [
    "m_cluster = smf.logit(\n",
    "    'if_click ~ treat + status + experience + treat:status + treat:experience '\n",
    "    '+ rel_status_z + real_like_z + user_age + friend_age '\n",
    "    '+ C(user_gender) + C(friend_gender) + C(week)',\n",
    "    data=df\n",
    ").fit(\n",
    "    disp=False,\n",
    "    cov_type='cluster',\n",
    "    cov_kwds={'groups': df['adid']}\n",
    ")\n",
    "print(\"=== Robust SE with Clustering on adid ===\")\n",
    "print(m_cluster.summary())\n"
   ]
  }
 ],
 "metadata": {
  "kernelspec": {
   "display_name": "base",
   "language": "python",
   "name": "python3"
  },
  "language_info": {
   "codemirror_mode": {
    "name": "ipython",
    "version": 3
   },
   "file_extension": ".py",
   "mimetype": "text/x-python",
   "name": "python",
   "nbconvert_exporter": "python",
   "pygments_lexer": "ipython3",
   "version": "3.12.4"
  }
 },
 "nbformat": 4,
 "nbformat_minor": 5
}
